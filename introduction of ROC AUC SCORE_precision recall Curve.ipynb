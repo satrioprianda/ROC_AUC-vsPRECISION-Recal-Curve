{
 "cells": [
  {
   "cell_type": "markdown",
   "metadata": {},
   "source": [
    "# on this page, there will be some explanations about ROC AUC curve for model evaluation compared to the Precision Recall Curv"
   ]
  },
  {
   "cell_type": "markdown",
   "metadata": {},
   "source": [
    "## A) ROC AUC CURVE ( compared the balanced and imbalanced Dataset)"
   ]
  },
  {
   "cell_type": "markdown",
   "metadata": {},
   "source": [
    "it is evaluation of Machine learning , predicting the outome based on feature based on different threshold\n",
    "\n",
    "it is plotting the True positive Rate - Flse Positive Rate\n",
    "\n",
    "means it shows how good our Model separates true and false Positive\n",
    "\n",
    "it  shows as well how good at predicting positive  when the actual outcome is positive"
   ]
  },
  {
   "cell_type": "markdown",
   "metadata": {},
   "source": [
    "true positive rate= TP / (TP+FN)"
   ]
  },
  {
   "cell_type": "markdown",
   "metadata": {},
   "source": [
    "#### using Example Datasets"
   ]
  },
  {
   "cell_type": "code",
   "execution_count": 30,
   "metadata": {},
   "outputs": [],
   "source": [
    "from sklearn.datasets import make_classification\n",
    "from sklearn.linear_model import LogisticRegression \n",
    "from sklearn.tree import DecisionTreeClassifier \n",
    "from sklearn.ensemble import GradientBoostingClassifier,RandomForestClassifier\n",
    "from sklearn.model_selection import train_test_split\n",
    "from sklearn.metrics import precision_recall_curve, roc_auc_score,roc_curve,f1_score,auc\n",
    "from matplotlib import pyplot "
   ]
  },
  {
   "cell_type": "markdown",
   "metadata": {},
   "source": [
    "#### import dataset"
   ]
  },
  {
   "cell_type": "code",
   "execution_count": 3,
   "metadata": {},
   "outputs": [],
   "source": [
    "X,y= make_classification(n_samples=1000,n_classes=2,random_state=1)"
   ]
  },
  {
   "cell_type": "markdown",
   "metadata": {},
   "source": [
    "### Split test and Train"
   ]
  },
  {
   "cell_type": "code",
   "execution_count": 4,
   "metadata": {},
   "outputs": [],
   "source": [
    "trainX,testX,trainy,testy= train_test_split(X,y,test_size=0.3,random_state=2)"
   ]
  },
  {
   "cell_type": "markdown",
   "metadata": {},
   "source": [
    "### fitting and calculate the probability"
   ]
  },
  {
   "cell_type": "code",
   "execution_count": 32,
   "metadata": {},
   "outputs": [],
   "source": [
    "ns_probs= [0 for _ in range(len(testy))]\n",
    "model= LogisticRegression()\n",
    "model.fit(trainX,trainy)\n",
    "yhat= model.predict(testX)\n"
   ]
  },
  {
   "cell_type": "code",
   "execution_count": 31,
   "metadata": {},
   "outputs": [],
   "source": [
    "\n",
    "## predict probabilty \n",
    "lr_probs= model.predict_proba(testX)[:,1]\n",
    "lr_auc= roc_auc_score(testy,lr_probs)\n",
    "nr_auc= roc_auc_score(testy,ns_probs)\n"
   ]
  },
  {
   "cell_type": "markdown",
   "metadata": {},
   "source": [
    "#### summarize the score"
   ]
  },
  {
   "cell_type": "code",
   "execution_count": 13,
   "metadata": {},
   "outputs": [
    {
     "name": "stdout",
     "output_type": "stream",
     "text": [
      "no skills score is : 0.5\n",
      "the ROC score is : 0.9186186052713453\n"
     ]
    }
   ],
   "source": [
    "print('no skills score is :',nr_auc)\n",
    "print('the ROC score is :', lr_auc)"
   ]
  },
  {
   "cell_type": "markdown",
   "metadata": {},
   "source": [
    "## 1A) ROC-AUC-Curve balanced dataset)"
   ]
  },
  {
   "cell_type": "markdown",
   "metadata": {},
   "source": [
    "###  plot ROC AUC curve"
   ]
  },
  {
   "cell_type": "code",
   "execution_count": 16,
   "metadata": {},
   "outputs": [],
   "source": [
    "ns_fpr,ns_tpr,_= roc_curve(testy,ns_probs)\n",
    "lr_fpr, lr_tpr,_= roc_curve(testy,lr_probs)"
   ]
  },
  {
   "cell_type": "code",
   "execution_count": 27,
   "metadata": {
    "scrolled": true
   },
   "outputs": [
    {
     "data": {
      "image/png": "[encoded data removed]",
      "text/plain": [
       "<Figure size 432x288 with 1 Axes>"
      ]
     },
     "metadata": {
      "needs_background": "light"
     },
     "output_type": "display_data"
    },
    {
     "name": "stdout",
     "output_type": "stream",
     "text": [
      "         ROC CURVE ON BALANCED DATASET\n"
     ]
    }
   ],
   "source": [
    "pyplot.plot(ns_fpr,ns_tpr, linestyle='--',label='No Skill')\n",
    "pyplot.plot(lr_fpr,lr_tpr,marker= '.',label= 'Logistic Regression')\n",
    "pyplot.xlabel('FALSE POSITIVE RATE')\n",
    "pyplot.ylabel(\"TRUE POSITIVE RATE\")\n",
    "pyplot.legend()\n",
    "pyplot.show()\n",
    "print('         ROC CURVE ON BALANCED DATASET')"
   ]
  },
  {
   "cell_type": "markdown",
   "metadata": {},
   "source": [
    "## 1B)  precision Recall Curve"
   ]
  },
  {
   "cell_type": "markdown",
   "metadata": {},
   "source": [
    "#### caluclate the precision and recall"
   ]
  },
  {
   "cell_type": "code",
   "execution_count": 34,
   "metadata": {},
   "outputs": [],
   "source": [
    "lr_precision,lr_recall,_= precision_recall_curve(testy,lr_probs)"
   ]
  },
  {
   "cell_type": "markdown",
   "metadata": {},
   "source": [
    "#### calculate the f1 score"
   ]
  },
  {
   "cell_type": "code",
   "execution_count": 38,
   "metadata": {},
   "outputs": [],
   "source": [
    "## lr probs is the probabilistic of the positive value using .proba (testx)\n",
    "lr_f1,lr_auc= f1_score(testy,yhat), auc(lr_recall,lr_precision)"
   ]
  },
  {
   "cell_type": "code",
   "execution_count": 39,
   "metadata": {},
   "outputs": [
    {
     "name": "stdout",
     "output_type": "stream",
     "text": [
      "logistic regression  f1= 0.8338983050847457 , then the AUC is = 0.9111019785870931\n"
     ]
    }
   ],
   "source": [
    "print('logistic regression  f1= {f1} , then the AUC is = {auc}'.format(f1= lr_f1,\n",
    "                                                                      auc= lr_auc))"
   ]
  },
  {
   "cell_type": "markdown",
   "metadata": {},
   "source": [
    "### plot the PrecisionRecall curve ( Balanced Dataset)"
   ]
  },
  {
   "cell_type": "code",
   "execution_count": 44,
   "metadata": {},
   "outputs": [
    {
     "data": {
      "image/png": "[encoded data removed]",
      "text/plain": [
       "<Figure size 432x288 with 1 Axes>"
      ]
     },
     "metadata": {
      "needs_background": "light"
     },
     "output_type": "display_data"
    }
   ],
   "source": [
    "no_skill = len(testy[testy==1]) / len(testy)\n",
    "pyplot.plot([0, 1], [no_skill, no_skill], linestyle='--', label='No Skill')\n",
    "pyplot.plot(lr_recall, lr_precision, marker='.', label='Logistic')\n",
    "# axis labels\n",
    "pyplot.xlabel('Recall')\n",
    "pyplot.ylabel('Precision')\n",
    "# show the legend\n",
    "pyplot.legend()\n",
    "# show the plot\n",
    "pyplot.show()"
   ]
  },
  {
   "cell_type": "markdown",
   "metadata": {},
   "source": [
    "## 2A)plot both ROC and AUC for Imbalanced Datasets"
   ]
  },
  {
   "cell_type": "code",
   "execution_count": 52,
   "metadata": {},
   "outputs": [
    {
     "name": "stdout",
     "output_type": "stream",
     "text": [
      "No Skill: ROC AUC=0.500\n",
      "Logistic: ROC AUC=0.716\n"
     ]
    }
   ],
   "source": [
    "X_imb, y_imb = make_classification(n_samples=1000, n_classes=2, weights=[0.99,0.01], random_state=1)\n",
    "# split into train/test sets\n",
    "trainX_imb, testX_imb, trainy_imb, testy_imb = train_test_split(X_imb, y_imb, test_size=0.5, random_state=2)\n",
    "# generate a no skill prediction (majority class)\n",
    "ns_probs_imb = [0 for _ in range(len(testy_imb))]\n",
    "# fit a model\n",
    "model_imb = LogisticRegression(solver='lbfgs')\n",
    "model_imb.fit(trainX_imb, trainy_imb)\n",
    "## predicted data\n",
    "yhat_imb = model_imb.predict(testX_imb)\n",
    "# predict probabilities\n",
    "lr_probs_imb = model_imb.predict_proba(testX_imb)\n",
    "# keep probabilities for the positive outcome only\n",
    "lr_probs_imb = lr_probs_imb[:, 1]\n",
    "# calculate scores\n",
    "ns_auc_imb = roc_auc_score(testy_imb, ns_probs_imb)\n",
    "lr_auc_imb = roc_auc_score(testy_imb, lr_probs_imb)\n",
    "# summarize scores\n",
    "print('No Skill: ROC AUC=%.3f' % (ns_auc_imb))\n",
    "print('Logistic: ROC AUC=%.3f' % (lr_auc_imb))\n"
   ]
  },
  {
   "cell_type": "code",
   "execution_count": 48,
   "metadata": {},
   "outputs": [
    {
     "data": {
      "image/png": "[encoded data removed]",
      "text/plain": [
       "<Figure size 432x288 with 1 Axes>"
      ]
     },
     "metadata": {
      "needs_background": "light"
     },
     "output_type": "display_data"
    },
    {
     "name": "stdout",
     "output_type": "stream",
     "text": [
      "           ROC AUC CURVE FOR THE IMBALANCED DATASET\n"
     ]
    }
   ],
   "source": [
    "# calculate roc curves\n",
    "ns_fpr_imb, ns_tpr_imb, _ = roc_curve(testy_imb, ns_probs_imb)\n",
    "lr_fpr_imb, lr_tpr_imb, _ = roc_curve(testy_imb, lr_probs_imb)\n",
    "# plot the roc curve for the model\n",
    "pyplot.plot(ns_fpr_imb, ns_tpr_imb, linestyle='--', label='No Skill')\n",
    "pyplot.plot(lr_fpr_imb, lr_tpr_imb, marker='.', label='Logistic')\n",
    "# axis labels\n",
    "pyplot.xlabel('False Positive Rate')\n",
    "pyplot.ylabel('True Positive Rate')\n",
    "# show the legend\n",
    "pyplot.legend()\n",
    "# show the plot\n",
    "pyplot.show()\n",
    "print('           ROC AUC CURVE FOR THE IMBALANCED DATASET')"
   ]
  },
  {
   "cell_type": "markdown",
   "metadata": {},
   "source": [
    "## 2B) Precision-Recall Curve Imbalanced Dataset"
   ]
  },
  {
   "cell_type": "code",
   "execution_count": 53,
   "metadata": {},
   "outputs": [
    {
     "name": "stderr",
     "output_type": "stream",
     "text": [
      "C:\\ProgramData\\Anaconda3\\lib\\site-packages\\sklearn\\metrics\\classification.py:1135: UndefinedMetricWarning: F-score is ill-defined and being set to 0.0 due to no predicted samples.\n",
      "  'precision', 'predicted', average, warn_for)\n"
     ]
    }
   ],
   "source": [
    "lr_precision_imb, lr_recall_imb,_= precision_recall_curve(testy_imb,lr_probs_imb)\n",
    "lr_f1_imb,lr_auc_imb= f1_score(testy_imb,yhat_imb), auc(lr_recall_imb,lr_precision_imb)"
   ]
  },
  {
   "cell_type": "code",
   "execution_count": 55,
   "metadata": {},
   "outputs": [
    {
     "data": {
      "image/png": "[encoded data removed]",
      "text/plain": [
       "<Figure size 432x288 with 1 Axes>"
      ]
     },
     "metadata": {
      "needs_background": "light"
     },
     "output_type": "display_data"
    },
    {
     "name": "stdout",
     "output_type": "stream",
     "text": [
      "          Precision -Recall Curve IMBALANCED DATASET\n"
     ]
    }
   ],
   "source": [
    "no_skill = len(testy_imb[testy_imb==1]) / len(testy_imb)\n",
    "pyplot.plot([0, 1], [no_skill, no_skill], linestyle='--', label='No Skill')\n",
    "pyplot.plot(lr_recall_imb, lr_precision_imb, marker='.', label='Logistic')\n",
    "# axis labels\n",
    "pyplot.xlabel('Recall')\n",
    "pyplot.ylabel('Precision')\n",
    "# show the legend\n",
    "pyplot.legend()\n",
    "# show the plot\n",
    "pyplot.show()\n",
    "print('          Precision -Recall Curve IMBALANCED DATASET')"
   ]
  },
  {
   "cell_type": "code",
   "execution_count": null,
   "metadata": {},
   "outputs": [],
   "source": []
  },
  {
   "cell_type": "code",
   "execution_count": null,
   "metadata": {},
   "outputs": [],
   "source": []
  },
  {
   "cell_type": "code",
   "execution_count": null,
   "metadata": {},
   "outputs": [],
   "source": []
  },
  {
   "cell_type": "code",
   "execution_count": null,
   "metadata": {},
   "outputs": [],
   "source": []
  },
  {
   "cell_type": "code",
   "execution_count": null,
   "metadata": {},
   "outputs": [],
   "source": []
  },
  {
   "cell_type": "code",
   "execution_count": null,
   "metadata": {},
   "outputs": [],
   "source": []
  },
  {
   "cell_type": "code",
   "execution_count": null,
   "metadata": {},
   "outputs": [],
   "source": []
  }
 ],
 "metadata": {
  "kernelspec": {
   "display_name": "Python 3",
   "language": "python",
   "name": "python3"
  },
  "language_info": {
   "codemirror_mode": {
    "name": "ipython",
    "version": 3
   },
   "file_extension": ".py",
   "mimetype": "text/x-python",
   "name": "python",
   "nbconvert_exporter": "python",
   "pygments_lexer": "ipython3",
   "version": "3.7.0"
  }
 },
 "nbformat": 4,
 "nbformat_minor": 2
}
